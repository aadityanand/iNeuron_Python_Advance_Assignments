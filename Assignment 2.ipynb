{
 "cells": [
  {
   "cell_type": "code",
   "execution_count": null,
   "metadata": {},
   "outputs": [],
   "source": [
    "1. Explain three-dimensional data indexing.\n",
    "A: A three dimesnional array is a array of two dimensional arrays. The indexing then consists of the location of each 2D array and the rest two indices are for the rows and columns of the 2D array."
   ]
  },
  {
   "cell_type": "code",
   "execution_count": null,
   "metadata": {},
   "outputs": [],
   "source": [
    "2. What's the difference between a series and a dataframe?\n",
    "A: The basic difference between a series and a dataframe is that a series has only one dimension while a dataframe consists of two dimensions. "
   ]
  },
  {
   "cell_type": "code",
   "execution_count": null,
   "metadata": {},
   "outputs": [],
   "source": [
    "3. What role does pandas play in data cleaning?\n",
    "A: Pandas has built in functions which can be used prior to data analysis to clean data. It helps in adding and removing data and also, add some missing data to the dataframe."
   ]
  },
  {
   "cell_type": "code",
   "execution_count": null,
   "metadata": {},
   "outputs": [],
   "source": [
    "4. How do you use pandas to make a data frame out of n-dimensional arrays?\n",
    "A: To make a dataframe of an n dimensional array, we need to make multiple labels for different dimensions and reshape the n-dimensional array two fir two dimensions and use labels for the rest of the dimensions."
   ]
  },
  {
   "cell_type": "code",
   "execution_count": null,
   "metadata": {},
   "outputs": [],
   "source": [
    "5. Explain the notion of pandas plotting.\n",
    "A: One can plot their dataframe(df) using df.plot(). This plots the column names to x axis and the corresponding values to x axis."
   ]
  }
 ],
 "metadata": {
  "kernelspec": {
   "display_name": "Python 3",
   "language": "python",
   "name": "python3"
  },
  "language_info": {
   "codemirror_mode": {
    "name": "ipython",
    "version": 3
   },
   "file_extension": ".py",
   "mimetype": "text/x-python",
   "name": "python",
   "nbconvert_exporter": "python",
   "pygments_lexer": "ipython3",
   "version": "3.8.0"
  }
 },
 "nbformat": 4,
 "nbformat_minor": 4
}
