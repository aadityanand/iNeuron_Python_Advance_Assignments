{
 "cells": [
  {
   "cell_type": "code",
   "execution_count": null,
   "metadata": {},
   "outputs": [],
   "source": [
    "1. Explain super() in the context of inheritance.\n",
    "A: The super() function in Python makes class inheritance more manageable and extensible. The function returns a temporary object that allows reference to a parent class by the keyword super.\n",
    "The super() function has two major use cases:\n",
    "- To avoid the usage of the super (parent) class explicitly.\n",
    "- To enable multiple inheritances."
   ]
  },
  {
   "cell_type": "code",
   "execution_count": null,
   "metadata": {},
   "outputs": [],
   "source": [
    "2. Describe the file-handling system.\n",
    "A: File handling is very simple in python. One can open files in read, write or append mode f = open(filename, mode). "
   ]
  },
  {
   "cell_type": "code",
   "execution_count": null,
   "metadata": {},
   "outputs": [],
   "source": [
    "3. In Python, explain multiple inheritance.\n",
    "A: A class can be derived from more than one base class, this is called multiple inheritance. In multiple inheritance, the features of all the base classes are inherited into the derived class.\\\n",
    "class Parent1:\n",
    "    pass\n",
    "\n",
    "class Parent2:\n",
    "    pass\n",
    "\n",
    "class Child(Parent1, Parent2):\n",
    "    pass"
   ]
  },
  {
   "cell_type": "code",
   "execution_count": null,
   "metadata": {},
   "outputs": [],
   "source": [
    "4. Write the MySQL query syntax for INSERT, UPDATE, and DROP.\n",
    "A:\n",
    "INSERT INTO TableName(Variable) VALUES(Variable_Values);\n",
    "\n",
    "UPDATE TableName SET Variable=New_Variable_Values;\n",
    "\n",
    "DELETE FROM TableName WHERE Variable=New_Variable_Values;"
   ]
  },
  {
   "cell_type": "code",
   "execution_count": null,
   "metadata": {},
   "outputs": [],
   "source": [
    "5. Describe MongoDB's features.\n",
    "A: Features of MongoDB –\n",
    "-Schema-less Database\n",
    "-Document Oriented\n",
    "-Indexing\n",
    "-Scalability\n",
    "-Replication\n",
    "-Aggregation\n",
    "-High Performance"
   ]
  }
 ],
 "metadata": {
  "kernelspec": {
   "display_name": "Python 3",
   "language": "python",
   "name": "python3"
  },
  "language_info": {
   "codemirror_mode": {
    "name": "ipython",
    "version": 3
   },
   "file_extension": ".py",
   "mimetype": "text/x-python",
   "name": "python",
   "nbconvert_exporter": "python",
   "pygments_lexer": "ipython3",
   "version": "3.8.0"
  }
 },
 "nbformat": 4,
 "nbformat_minor": 4
}
