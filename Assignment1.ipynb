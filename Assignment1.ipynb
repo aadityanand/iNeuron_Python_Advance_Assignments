{
 "cells": [
  {
   "cell_type": "code",
   "execution_count": null,
   "metadata": {},
   "outputs": [],
   "source": [
    "1. What makes NumPy.shape() different from NumPy.size()?\n",
    "A: NumPy.shape() gives the size of the dimesnions of an N dimensional array. While NumPy.size() gives the count of the elements in an N dimensional array."
   ]
  },
  {
   "cell_type": "code",
   "execution_count": null,
   "metadata": {},
   "outputs": [],
   "source": [
    "2. In NumPy, describe the idea of broadcasting.\n",
    "A: While doing arithmetic operations of two numpy arrays, there is a chance that they are of different shapes. This leads to difficulty of performing arithmetic operations. To tackle this, numpy broadcasts the smaller array to the size of the bigger array to make the sizes compatible for performing arithmetic operations. "
   ]
  },
  {
   "cell_type": "code",
   "execution_count": null,
   "metadata": {},
   "outputs": [],
   "source": [
    "3. What makes Python better than other libraries for numerical computation?\n",
    "A: NumPy's computational speed is faster than the other libraries doing the same function. SciPy has similar features but is slower than NumPy."
   ]
  },
  {
   "cell_type": "code",
   "execution_count": null,
   "metadata": {},
   "outputs": [],
   "source": [
    "4. How does NumPy deal with files?\n",
    "A: NumPy saves file with the extension .npy which stores the following values of an ndarray: data, shape, dtype and other information that might be required for reconstructiong the ndarray in any other system."
   ]
  },
  {
   "cell_type": "code",
   "execution_count": null,
   "metadata": {},
   "outputs": [],
   "source": [
    "5. Mention the importance of NumPy.empty().\n",
    "A: NumPy.empty() is used to create a NumPy array with given dimensions without actually having to initialise the values of the array."
   ]
  }
 ],
 "metadata": {
  "kernelspec": {
   "display_name": "Python 3",
   "language": "python",
   "name": "python3"
  },
  "language_info": {
   "codemirror_mode": {
    "name": "ipython",
    "version": 3
   },
   "file_extension": ".py",
   "mimetype": "text/x-python",
   "name": "python",
   "nbconvert_exporter": "python",
   "pygments_lexer": "ipython3",
   "version": "3.8.0"
  }
 },
 "nbformat": 4,
 "nbformat_minor": 4
}
