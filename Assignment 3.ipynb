{
 "cells": [
  {
   "cell_type": "code",
   "execution_count": null,
   "metadata": {},
   "outputs": [],
   "source": [
    "1. What is the process for loading a dataset from an external source?\n",
    "A: Datasets can be loaded from CSV files xcel files or text files using Pandas library. Functions like read_csv(), ExcelFile(), read_html(), etc can be used to load different files."
   ]
  },
  {
   "cell_type": "code",
   "execution_count": null,
   "metadata": {},
   "outputs": [],
   "source": [
    "2. How can we use pandas to read JSON files?\n",
    "A: We can use the function read_json(\"FILE_JSON.json\") in which we pass the argument, loaction of the file in string format."
   ]
  },
  {
   "cell_type": "code",
   "execution_count": null,
   "metadata": {},
   "outputs": [],
   "source": [
    "3. Describe the significance of DASK.\n",
    "A: When one is working with large dataframes, DASk provides parallel computation to work with them as pandas and such library face problems with large dataframes.  "
   ]
  },
  {
   "cell_type": "code",
   "execution_count": null,
   "metadata": {},
   "outputs": [],
   "source": [
    "4. Describe the functions of DASK.\n",
    "A: It is used to scale one's machine learning and data cience work flows. It is a free and open-source library for parallel computing in Python. It can be used with other libraries like NumPy, SciKit etc in python without any problems."
   ]
  },
  {
   "cell_type": "code",
   "execution_count": null,
   "metadata": {},
   "outputs": [],
   "source": [
    "5. Describe Cassandra's features.\n",
    "A: The features of cassandra are : Distributed, Supports replication & Multi data center replication,"
   ]
  }
 ],
 "metadata": {
  "kernelspec": {
   "display_name": "Python 3",
   "language": "python",
   "name": "python3"
  },
  "language_info": {
   "codemirror_mode": {
    "name": "ipython",
    "version": 3
   },
   "file_extension": ".py",
   "mimetype": "text/x-python",
   "name": "python",
   "nbconvert_exporter": "python",
   "pygments_lexer": "ipython3",
   "version": "3.8.0"
  }
 },
 "nbformat": 4,
 "nbformat_minor": 4
}
