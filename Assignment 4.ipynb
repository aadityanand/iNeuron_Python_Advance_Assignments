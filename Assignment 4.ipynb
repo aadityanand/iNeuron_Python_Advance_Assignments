{
 "cells": [
  {
   "cell_type": "code",
   "execution_count": null,
   "metadata": {},
   "outputs": [],
   "source": [
    "1. Explain the differences between Cassandra and typical databases.\n",
    "A: Cassandra is a high performance and highly scalable distributed NoSQL database management system. It deals with unstructured data. It has a flexible schema. Cassandra has peer-to-peer architecture with no single point of failure."
   ]
  },
  {
   "cell_type": "code",
   "execution_count": null,
   "metadata": {},
   "outputs": [],
   "source": [
    "2. What exactly is CQLSH?\n",
    "A: cqlsh is a command-line interface for interacting with Cassandra using CQL (the Cassandra Query Language). It is shipped with every Cassandra package."
   ]
  },
  {
   "cell_type": "code",
   "execution_count": null,
   "metadata": {},
   "outputs": [],
   "source": [
    "3. Explain the Cassandra cluster idea.\n",
    "A: The cluster is a collection of nodes that represents a single system. A cluster in Cassandra is one of the shells in the whole Cassandra database. Many Cassandra Clusters combine together to form the database in Cassandra.\n",
    "A Cluster is basically the outermost shell or storage unit in a database. The Cassandra Cluster contains many different layers of storage units. Each layer contains the other.    "
   ]
  },
  {
   "cell_type": "code",
   "execution_count": null,
   "metadata": {},
   "outputs": [],
   "source": [
    "4. Give an example to demonstrate the class notion.\n",
    "A: A class is the basis of all data in Python, everything is an object in Python, and a class is how an object is defined. They are the foundation of object-oriented programmingA class is the basis of all data in Python, everything is an object in Python, and a class is how an object is defined. They are the foundation of object-oriented programming. You use a class to instantiate objects, which are specific instances of a class. A class defines the general behavior that an entire category of objects may have as well as the information that can be associated with those objects. Classes can inherit from each other which means you can create a class that extends the functionality of an existing class."
   ]
  },
  {
   "cell_type": "code",
   "execution_count": null,
   "metadata": {},
   "outputs": [],
   "source": [
    "5. Use an example to explain the object.\n",
    "A: An instance of a class is called an object. It’s created by calling the class itself as if it were a function. Let's say we have a class called as vehicle.\n",
    "We can define the class as:\n",
    "    \n",
    "    class Vehicle:\n",
    "    def __init__(self, brand, model, type):\n",
    "        self.brand = brand\n",
    "        self.model = model\n",
    "        self.type = type\n",
    "\n",
    "Now, this is how we define an object of the above class. We pass the values along with the object to give values :\n",
    "    vehicle_object = Vehicle('Honda', 'Ridgeline', 'Truck')\n",
    "\n",
    "We can access it's values by:\n",
    "    print(vehicle_object.brand)\n",
    "    print(vehicle_object.model)\n",
    "    print(vehicle_object.type)\n",
    "    \n",
    "Which returns:\n",
    "    Honda\n",
    "    Ridgeline\n",
    "    Truck"
   ]
  }
 ],
 "metadata": {
  "kernelspec": {
   "display_name": "Python 3",
   "language": "python",
   "name": "python3"
  },
  "language_info": {
   "codemirror_mode": {
    "name": "ipython",
    "version": 3
   },
   "file_extension": ".py",
   "mimetype": "text/x-python",
   "name": "python",
   "nbconvert_exporter": "python",
   "pygments_lexer": "ipython3",
   "version": "3.8.0"
  }
 },
 "nbformat": 4,
 "nbformat_minor": 4
}
